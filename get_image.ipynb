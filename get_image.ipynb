{
 "cells": [
  {
   "cell_type": "code",
   "execution_count": 5,
   "metadata": {},
   "outputs": [],
   "source": [
    "import os\n",
    "import urllib.request as ulib\n",
    "from bs4 import BeautifulSoup as Soup\n",
    "import json\n",
    "import time\n",
    "import requests"
   ]
  },
  {
   "cell_type": "code",
   "execution_count": 6,
   "metadata": {},
   "outputs": [],
   "source": [
    "#word = input('Input key word: ')\n",
    "#url_a = 'https://www.google.com.tw/search?q='+word+'&rlz=1C1CHZL_zh-TWTW747TW748&source=lnms&tbm=isch&sa=X&ved=0ahUKEwiejYybwtveAhVHyrwKHVyZC6QQ_AUIDigB&biw=780&bih=375'\n",
    "\n",
    "url_a = 'https://www.google.com/search?q=car+accident&source=lnms&tbm=isch&sa=X&ved=0ahUKEwjwhPiW45DgAhVNOrwKHUzlC9oQ_AUIDigB&biw=911&bih=417'\n",
    "#url_b = 'https://unsplash.com/search/photos/finger'\n",
    "url_base = ''.join((url_a)) #get web\n",
    "\n",
    "photolimit = 25  #download pic num"
   ]
  },
  {
   "cell_type": "code",
   "execution_count": 7,
   "metadata": {},
   "outputs": [
    {
     "ename": "NameError",
     "evalue": "name 'BeautifulSoup' is not defined",
     "output_type": "error",
     "traceback": [
      "\u001b[1;31m---------------------------------------------------------------------------\u001b[0m",
      "\u001b[1;31mNameError\u001b[0m                                 Traceback (most recent call last)",
      "\u001b[1;32m<ipython-input-7-b5174a1b1a20>\u001b[0m in \u001b[0;36m<module>\u001b[1;34m()\u001b[0m\n\u001b[0;32m      1\u001b[0m \u001b[0mheaders\u001b[0m \u001b[1;33m=\u001b[0m \u001b[1;33m{\u001b[0m\u001b[1;34m'User-Agent'\u001b[0m\u001b[1;33m:\u001b[0m \u001b[1;34m'Chrome/41.0.2228.0 Safari/537.36'\u001b[0m\u001b[1;33m}\u001b[0m\u001b[1;33m\u001b[0m\u001b[0m\n\u001b[0;32m      2\u001b[0m \u001b[0mresponse\u001b[0m \u001b[1;33m=\u001b[0m \u001b[0mrequests\u001b[0m\u001b[1;33m.\u001b[0m\u001b[0mget\u001b[0m\u001b[1;33m(\u001b[0m\u001b[0murl_base\u001b[0m\u001b[1;33m,\u001b[0m\u001b[0mheaders\u001b[0m \u001b[1;33m=\u001b[0m \u001b[0mheaders\u001b[0m\u001b[1;33m)\u001b[0m\u001b[1;33m\u001b[0m\u001b[0m\n\u001b[1;32m----> 3\u001b[1;33m \u001b[0msoup\u001b[0m \u001b[1;33m=\u001b[0m \u001b[0mBeautifulSoup\u001b[0m\u001b[1;33m(\u001b[0m\u001b[0mresponse\u001b[0m\u001b[1;33m.\u001b[0m\u001b[0mcontent\u001b[0m\u001b[1;33m,\u001b[0m \u001b[1;34m'html.parser'\u001b[0m\u001b[1;33m)\u001b[0m\u001b[1;33m\u001b[0m\u001b[0m\n\u001b[0m\u001b[0;32m      4\u001b[0m \u001b[0mitems\u001b[0m \u001b[1;33m=\u001b[0m \u001b[0msoup\u001b[0m\u001b[1;33m.\u001b[0m\u001b[0mfind_all\u001b[0m\u001b[1;33m(\u001b[0m\u001b[1;34m'img'\u001b[0m\u001b[1;33m)\u001b[0m\u001b[1;33m\u001b[0m\u001b[0m\n\u001b[0;32m      5\u001b[0m \u001b[0mfolder_path\u001b[0m \u001b[1;33m=\u001b[0m\u001b[1;34m'./photo/'\u001b[0m\u001b[1;33m\u001b[0m\u001b[0m\n",
      "\u001b[1;31mNameError\u001b[0m: name 'BeautifulSoup' is not defined"
     ]
    }
   ],
   "source": [
    "headers = {'User-Agent': 'Chrome/41.0.2228.0 Safari/537.36'}\n",
    "response = requests.get(url_base,headers = headers)\n",
    "soup = BeautifulSoup(response.content, 'html.parser')\n",
    "items = soup.find_all('img')\n",
    "folder_path ='./photo/'"
   ]
  },
  {
   "cell_type": "code",
   "execution_count": null,
   "metadata": {},
   "outputs": [],
   "source": [
    "if (os.path.exists(folder_path) == False): #判斷資料夾是否存在\n",
    "\n",
    "    os.makedirs(folder_path) #Create folder"
   ]
  },
  {
   "cell_type": "code",
   "execution_count": null,
   "metadata": {},
   "outputs": [],
   "source": [
    "for index , item in enumerate (items):\n",
    "\n",
    "    if (item and index < photolimit ):\n",
    "\n",
    "        html = requests.get(item.get('src')) # use 'get' to get photo link path , requests = send request\n",
    "\n",
    "        img_name = folder_path + str(index + 1) + '.png'\n",
    "\n",
    "\n",
    "\n",
    "        with open(img_name,'wb') as file: #以byte的形式將圖片數據寫入\n",
    "\n",
    "            file.write(html.content)\n",
    "\n",
    "            file.flush()\n",
    "\n",
    "        file.close() #close file\n",
    "\n",
    "        print('第 %d 張' % (index + 1))\n",
    "\n",
    "        time.sleep(1)\n",
    "        \n",
    "print('Done')"
   ]
  },
  {
   "cell_type": "code",
   "execution_count": null,
   "metadata": {},
   "outputs": [],
   "source": []
  }
 ],
 "metadata": {
  "kernelspec": {
   "display_name": "Python 3",
   "language": "python",
   "name": "python3"
  },
  "language_info": {
   "codemirror_mode": {
    "name": "ipython",
    "version": 3
   },
   "file_extension": ".py",
   "mimetype": "text/x-python",
   "name": "python",
   "nbconvert_exporter": "python",
   "pygments_lexer": "ipython3",
   "version": "3.5.5"
  }
 },
 "nbformat": 4,
 "nbformat_minor": 2
}
